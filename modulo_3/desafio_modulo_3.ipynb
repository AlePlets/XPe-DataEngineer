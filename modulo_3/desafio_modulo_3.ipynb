{
 "cells": [
  {
   "cell_type": "code",
   "execution_count": null,
   "metadata": {},
   "outputs": [],
   "source": [
    "#create a spark session\n",
    "from pyspark.sql import SparkSession\n",
    "spark = SparkSession.builder.appName(\"SparkSQL\").getOrCreate()\n",
    "\n",
    "#print spark version\n",
    "print(spark.version)"
   ]
  },
  {
   "cell_type": "code",
   "execution_count": null,
   "metadata": {},
   "outputs": [],
   "source": [
    "#read CNAES data\n",
    "df_cnaes = spark.read.csv('/home/jovyan/data/cnaes.csv',\\\n",
    "                        header=True, inferSchema=True,\\\n",
    "                            sep=';', encoding='ISO-8859-1')\n",
    "#print the df_cnaes schema\n",
    "df_cnaes.printSchema()"
   ]
  },
  {
   "cell_type": "code",
   "execution_count": null,
   "metadata": {},
   "outputs": [],
   "source": [
    "#count the rows\n",
    "df_cnaes.count()"
   ]
  },
  {
   "cell_type": "code",
   "execution_count": null,
   "metadata": {},
   "outputs": [],
   "source": [
    "# show df_cnaes\n",
    "df_cnaes.show(5, truncate=False)"
   ]
  },
  {
   "cell_type": "code",
   "execution_count": null,
   "metadata": {},
   "outputs": [],
   "source": [
    "#read dataset estabelecimentos\n",
    "df_estabelecimentos1 = spark.read.csv('/home/jovyan/data/estabelecimentos-1.csv',\\\n",
    "                        header=True, inferSchema=True, sep=';',\\\n",
    "                        encoding = 'ISO-8859-1')\n",
    "\n",
    "df_estabelecimentos2 = spark.read.csv('/home/jovyan/data/estabelecimentos-2.csv',\\\n",
    "                        header=True, inferSchema=True, sep=';',\\\n",
    "                        encoding = 'ISO-8859-1')\n",
    "\n",
    "df_estabelecimentos3 = spark.read.csv('/home/jovyan/data/estabelecimentos-3.csv',\\\n",
    "                        header=True, inferSchema=True, sep=';',\\\n",
    "                        encoding = 'ISO-8859-1')"
   ]
  },
  {
   "cell_type": "code",
   "execution_count": null,
   "metadata": {},
   "outputs": [],
   "source": [
    "#union csv files estabelecimentos-1, 2 e 3\n",
    "df_estabelecimentos = df_estabelecimentos1.union(df_estabelecimentos2).union(df_estabelecimentos3)\n",
    "df_estabelecimentos.coalesce(1).write.format(\"csv\")\\\n",
    "    .option(\"delimiter\", \";\")\\\n",
    "    .option(\"header\", \"true\")\n",
    "#    .save(\"/home/jovyan/data/estabelecimentos.csv\")"
   ]
  },
  {
   "cell_type": "code",
   "execution_count": null,
   "metadata": {},
   "outputs": [],
   "source": [
    "df_estabelecimentos.printSchema()"
   ]
  },
  {
   "cell_type": "code",
   "execution_count": null,
   "metadata": {},
   "outputs": [],
   "source": [
    "#rename column 'CNAE_PRINCIPAL' to 'CNAE'\n",
    "df_estabelecimentos = df_estabelecimentos.withColumnRenamed('CNAE_PRINCIPAL','CNAE')"
   ]
  },
  {
   "cell_type": "code",
   "execution_count": null,
   "metadata": {},
   "outputs": [],
   "source": [
    "df_estabelecimentos.printSchema()"
   ]
  },
  {
   "cell_type": "code",
   "execution_count": null,
   "metadata": {},
   "outputs": [],
   "source": [
    "df_estabelecimentos.show(5, truncate=False)"
   ]
  },
  {
   "cell_type": "code",
   "execution_count": null,
   "metadata": {},
   "outputs": [],
   "source": [
    "#left join estabelecimentos\n",
    "estabelecimento_cnaes = df_estabelecimentos.join(df_cnaes, on='CNAE', how='left')"
   ]
  },
  {
   "cell_type": "code",
   "execution_count": null,
   "metadata": {},
   "outputs": [],
   "source": [
    "estabelecimento_cnaes.show(5, truncate=False)"
   ]
  },
  {
   "cell_type": "code",
   "execution_count": null,
   "metadata": {},
   "outputs": [],
   "source": [
    "estabelecimento_cnaes.count()"
   ]
  },
  {
   "cell_type": "code",
   "execution_count": null,
   "metadata": {},
   "outputs": [],
   "source": [
    "df_estabelecimentos.count()"
   ]
  },
  {
   "cell_type": "markdown",
   "metadata": {},
   "source": [
    "#### Pergunta 1: Quantos estabelecimentos existem?"
   ]
  },
  {
   "cell_type": "code",
   "execution_count": null,
   "metadata": {},
   "outputs": [],
   "source": [
    "df_estabelecimentos.count()"
   ]
  },
  {
   "cell_type": "code",
   "execution_count": null,
   "metadata": {},
   "outputs": [],
   "source": [
    "df_estabelecimentos.distinct().count()"
   ]
  },
  {
   "cell_type": "markdown",
   "metadata": {},
   "source": [
    "#### Pergunta 2: Na tabela de estabelecimentos, quantas colunas existem e quantas são identificadas pelo spark como números? Use inferScehema ao ler os arquivos"
   ]
  },
  {
   "cell_type": "code",
   "execution_count": null,
   "metadata": {},
   "outputs": [],
   "source": [
    "num_columns = len(df_estabelecimentos.columns)\n",
    "print(num_columns)"
   ]
  },
  {
   "cell_type": "code",
   "execution_count": null,
   "metadata": {},
   "outputs": [],
   "source": [
    "df_estabelecimentos.printSchema()"
   ]
  },
  {
   "cell_type": "code",
   "execution_count": null,
   "metadata": {},
   "outputs": [],
   "source": [
    "#count columns using list comprehension\n",
    "num_numeric_columns = len([col for col, dtype in df_estabelecimentos.dtypes if dtype in ('integer')])\n",
    "print(\"Number of numeric columns:\", num_numeric_columns)\n"
   ]
  },
  {
   "cell_type": "markdown",
   "metadata": {},
   "source": [
    "#### Pegunta 3: Usando estabelecimentos_df.write.parquet(\"estabelecimentos.parquet\"), compare o tamanho dos arquivos parquet com os arquivos CSV originais. A economia de espaço foi da ordem de?"
   ]
  },
  {
   "cell_type": "code",
   "execution_count": null,
   "metadata": {},
   "outputs": [],
   "source": [
    "import os\n",
    "\n",
    "csv_size1 = os.path.getsize('/Users/ale/OneDrive/bootcamp-xp-engenheiro-de-dados/modulo3/dados/estabelecimentos/estabelecimentos/estabelecimentos-1.csv')\n",
    "csv_size2 = os.path.getsize('/Users/ale/OneDrive/bootcamp-xp-engenheiro-de-dados/modulo3/dados/estabelecimentos/estabelecimentos/estabelecimentos-2.csv')\n",
    "csv_size3 = os.path.getsize('/Users/ale/OneDrive/bootcamp-xp-engenheiro-de-dados/modulo3/dados/estabelecimentos/estabelecimentos/estabelecimentos-3.csv')\n",
    "\n",
    "csv_size = csv_size1 + csv_size2 + csv_size3\n",
    "print(f'Tamanho do arquivo CSV: {csv_size} bytes')"
   ]
  },
  {
   "cell_type": "code",
   "execution_count": null,
   "metadata": {},
   "outputs": [],
   "source": [
    "df_estabelecimentos_size = df_estabelecimentos.count()\n",
    "df_estabelecimentos_size"
   ]
  },
  {
   "cell_type": "code",
   "execution_count": null,
   "metadata": {},
   "outputs": [],
   "source": [
    "#create parquet file\n",
    "df_estabelecimentos.write.mode(\"overwrite\").parquet(\"/home/jovyan/data/estabelecimentos.parquet\")"
   ]
  },
  {
   "cell_type": "code",
   "execution_count": null,
   "metadata": {},
   "outputs": [],
   "source": [
    "parquet_size = os.path.getsize(\"/home/jovyan/data/estabelecimentos.parquet\")\n",
    "parquet_size"
   ]
  },
  {
   "cell_type": "code",
   "execution_count": null,
   "metadata": {},
   "outputs": [],
   "source": [
    "size_difference = df_estabelecimentos_size - parquet_size\n",
    "percentage_difference = size_difference / df_estabelecimentos_size * 100\n",
    "print(\"Size difference:\", size_difference, \"bytes\")\n",
    "\n",
    "print(\"Parquet file is\", percentage_difference, \"% smaller than CSV file\")"
   ]
  },
  {
   "cell_type": "code",
   "execution_count": null,
   "metadata": {},
   "outputs": [],
   "source": [
    "estabelecimento_cnaes.show(5,truncate=False)"
   ]
  },
  {
   "cell_type": "markdown",
   "metadata": {},
   "source": [
    "#### Pergunta 4: Vamos usar Spark SQL para obter algumas contagens. Primeiro, vamos ver quantos estabelecimentos não tem logradouro cadastrado."
   ]
  },
  {
   "cell_type": "code",
   "execution_count": null,
   "metadata": {},
   "outputs": [],
   "source": [
    "df_estabelecimentos.createOrReplaceTempView(\"estabelecimentos\")"
   ]
  },
  {
   "cell_type": "code",
   "execution_count": null,
   "metadata": {},
   "outputs": [],
   "source": [
    "spark.sql(\"SELECT * FROM estabelecimentos\").show(5)"
   ]
  },
  {
   "cell_type": "code",
   "execution_count": null,
   "metadata": {},
   "outputs": [],
   "source": [
    "spark.sql(\"SELECT COUNT(*) FROM estabelecimentos\\\n",
    "            WHERE CNPJ_BASICO IS NULL\").show()"
   ]
  },
  {
   "cell_type": "code",
   "execution_count": null,
   "metadata": {},
   "outputs": [],
   "source": [
    "spark.sql(\"SELECT COUNT(*) FROM estabelecimentos\\\n",
    "            WHERE LOGRADOURO IS NULL\").show()"
   ]
  },
  {
   "cell_type": "markdown",
   "metadata": {},
   "source": [
    "#### Pergunta 5: Contar quantos estabelecimentos ficam localizados em uma avenida"
   ]
  },
  {
   "cell_type": "code",
   "execution_count": null,
   "metadata": {},
   "outputs": [],
   "source": [
    "df_estabelecimentos.show(5,truncate=False)"
   ]
  },
  {
   "cell_type": "code",
   "execution_count": null,
   "metadata": {},
   "outputs": [],
   "source": [
    "df_estabelecimentos.createOrReplaceTempView(\"estabelecimentos\")"
   ]
  },
  {
   "cell_type": "code",
   "execution_count": null,
   "metadata": {},
   "outputs": [],
   "source": [
    "spark.sql(\"SELECT COUNT(*) FROM estabelecimentos\\\n",
    "            WHERE LOGRADOURO IS NOT NULL\\\n",
    "            AND UPPER(LOGRADOURO) LIKE 'AVENIDA%'\").show()"
   ]
  },
  {
   "cell_type": "code",
   "execution_count": null,
   "metadata": {},
   "outputs": [],
   "source": [
    "spark.sql(\"SELECT COUNT(*) FROM estabelecimentos\\\n",
    "    WHERE UPPER(TIPO_LOGRADOURO) = 'RUA'\").show()"
   ]
  },
  {
   "cell_type": "code",
   "execution_count": null,
   "metadata": {},
   "outputs": [],
   "source": [
    "spark.sql(\"SELECT COUNT(*) FROM estabelecimentos\\\n",
    "    WHERE UPPER(TIPO_LOGRADOURO) = 'AVENIDA'\").show()"
   ]
  },
  {
   "cell_type": "markdown",
   "metadata": {},
   "source": [
    "#### Pergunta 6: Quantos CEPs distintos existem entre os estabelecimentos?"
   ]
  },
  {
   "cell_type": "code",
   "execution_count": null,
   "metadata": {},
   "outputs": [],
   "source": [
    "spark.sql(\"SELECT * FROM estabelecimentos LIMIT 5\").show()"
   ]
  },
  {
   "cell_type": "code",
   "execution_count": null,
   "metadata": {},
   "outputs": [],
   "source": [
    "spark.sql(\"SELECT COUNT(*) FROM estabelecimentos\\\n",
    "            WHERE CEP IS NULL\").show()"
   ]
  },
  {
   "cell_type": "code",
   "execution_count": null,
   "metadata": {},
   "outputs": [],
   "source": [
    "spark.sql(\"SELECT COUNT(DISTINCT CEP) AS CEPs_distintos\\\n",
    "            FROM estabelecimentos\\\n",
    "            WHERE CEP IS NOT NULL\").show()"
   ]
  },
  {
   "cell_type": "code",
   "execution_count": null,
   "metadata": {},
   "outputs": [],
   "source": [
    "df_estabelecimentos.select('CEP').distinct().count()"
   ]
  },
  {
   "cell_type": "markdown",
   "metadata": {},
   "source": [
    "#### Pergunta 7: Quantos CNAEs existem na tabela de CNAES?"
   ]
  },
  {
   "cell_type": "code",
   "execution_count": null,
   "metadata": {},
   "outputs": [],
   "source": [
    "df_cnaes.createOrReplaceTempView(\"cnaes\")"
   ]
  },
  {
   "cell_type": "code",
   "execution_count": null,
   "metadata": {},
   "outputs": [],
   "source": [
    "spark.sql(\"SELECT * FROM cnaes\").show(5)"
   ]
  },
  {
   "cell_type": "code",
   "execution_count": null,
   "metadata": {},
   "outputs": [],
   "source": [
    "spark.sql(\"SELECT COUNT(CNAE) FROM cnaes\").show()"
   ]
  },
  {
   "cell_type": "markdown",
   "metadata": {},
   "source": [
    "#### Pergunta 8: Quantos estabelecimentos possuem um CNAE relacionado a cultivo?"
   ]
  },
  {
   "cell_type": "code",
   "execution_count": null,
   "metadata": {},
   "outputs": [],
   "source": [
    "estabelecimento_cnaes.createOrReplaceTempView(\"estabelecimento_cnaes\")"
   ]
  },
  {
   "cell_type": "code",
   "execution_count": null,
   "metadata": {},
   "outputs": [],
   "source": [
    "spark.sql(\"SELECT COUNT(*) FROM estabelecimento_cnaes\\\n",
    "            WHERE UPPER(DESCRICAO_CNAE) LIKE 'CULTIVO%'\").show()"
   ]
  },
  {
   "cell_type": "markdown",
   "metadata": {},
   "source": [
    "#### Pergunta 11: Quantos estabelecimentos são filiais?"
   ]
  },
  {
   "cell_type": "code",
   "execution_count": null,
   "metadata": {},
   "outputs": [],
   "source": [
    "df_estabelecimentos.printSchema()"
   ]
  },
  {
   "cell_type": "code",
   "execution_count": null,
   "metadata": {},
   "outputs": [],
   "source": [
    "df_estabelecimentos.show(5,truncate=False)"
   ]
  },
  {
   "cell_type": "code",
   "execution_count": null,
   "metadata": {},
   "outputs": [],
   "source": [
    "from pyspark.sql.functions import col\n",
    "\n",
    "df_estabelecimentos.select('IDENTIFICADOR_MATRIZ_FILIAL')\\\n",
    "    .where(col('IDENTIFICADOR_MATRIZ_FILIAL') == 2).count()"
   ]
  }
 ],
 "metadata": {
  "kernelspec": {
   "display_name": "base",
   "language": "python",
   "name": "python3"
  },
  "language_info": {
   "codemirror_mode": {
    "name": "ipython",
    "version": 3
   },
   "file_extension": ".py",
   "mimetype": "text/x-python",
   "name": "python",
   "nbconvert_exporter": "python",
   "pygments_lexer": "ipython3",
   "version": "3.12.1"
  }
 },
 "nbformat": 4,
 "nbformat_minor": 2
}
